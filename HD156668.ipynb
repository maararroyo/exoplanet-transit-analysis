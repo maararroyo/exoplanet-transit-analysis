{
 "cells": [
  {
   "cell_type": "markdown",
   "id": "3a3ddd3a",
   "metadata": {},
   "source": [
    "# HD 156668"
   ]
  },
  {
   "cell_type": "code",
   "execution_count": 9,
   "id": "1fa295cd",
   "metadata": {},
   "outputs": [],
   "source": [
    "# Importamos librerías\n",
    "import lightkurve as lk\n",
    "import numpy as np\n",
    "import pandas as pd\n",
    "import matplotlib.pyplot as plt\n",
    "from math import pi"
   ]
  },
  {
   "cell_type": "code",
   "execution_count": 10,
   "id": "67199b47",
   "metadata": {},
   "outputs": [],
   "source": [
    "# Constantes astronómicas\n",
    "\n",
    "G = 6.67430e-11           # m³/kg/s²\n",
    "M_sun = 1.98847e30        # kg\n",
    "R_sun = 6.957e8           # m\n",
    "R_earth = 6.3781e6        # m\n",
    "UA = 1.495978707e11       # m\n",
    "day2sec = 86400           # s"
   ]
  },
  {
   "cell_type": "code",
   "execution_count": 11,
   "id": "14f107da",
   "metadata": {},
   "outputs": [],
   "source": [
    "# Parámetros estelares aproximados para HD 156668\n",
    "\n",
    "tipo_espectral = \"K3V\"\n",
    "M_star = 0.77 * M_sun     # masa en kg\n",
    "R_star = 0.72 * R_sun     # radio en m\n",
    "edad_Gyr = 4.5\n",
    "ubicacion_HR = \"Secuencia principal (zona K)\""
   ]
  },
  {
   "cell_type": "code",
   "execution_count": 12,
   "id": "d8edc9ed",
   "metadata": {},
   "outputs": [
    {
     "name": "stderr",
     "output_type": "stream",
     "text": [
      "Warning: 23% (22780/100689) of the cadences will be ignored due to the quality mask (quality_bitmask=17087).\n",
      "Warning: 24% (3968/16779) of the cadences will be ignored due to the quality mask (quality_bitmask=17087).\n",
      "WARNING: column quality has a unit but is kept as a Column as an attempt to convert it to Quantity failed with:\n",
      "TypeError('The value must be a valid Python or Numpy numeric type.') [astropy.table.table]\n",
      "WARNING: column irq1 has a unit but is kept as a Column as an attempt to convert it to Quantity failed with:\n",
      "TypeError('The value must be a valid Python or Numpy numeric type.') [astropy.table.table]\n",
      "WARNING: column irq2 has a unit but is kept as a Column as an attempt to convert it to Quantity failed with:\n",
      "TypeError('The value must be a valid Python or Numpy numeric type.') [astropy.table.table]\n",
      "WARNING: column irq3 has a unit but is kept as a Column as an attempt to convert it to Quantity failed with:\n",
      "TypeError('The value must be a valid Python or Numpy numeric type.') [astropy.table.table]\n",
      "WARNING: column rstfc has a unit but is kept as a Column as an attempt to convert it to Quantity failed with:\n",
      "TypeError('The value must be a valid Python or Numpy numeric type.') [astropy.table.table]\n",
      "WARNING: column quality has a unit but is kept as a Column as an attempt to convert it to Quantity failed with:\n",
      "TypeError('The value must be a valid Python or Numpy numeric type.') [astropy.table.table]\n",
      "WARNING: column irq1 has a unit but is kept as a Column as an attempt to convert it to Quantity failed with:\n",
      "TypeError('The value must be a valid Python or Numpy numeric type.') [astropy.table.table]\n",
      "WARNING: column irq2 has a unit but is kept as a Column as an attempt to convert it to Quantity failed with:\n",
      "TypeError('The value must be a valid Python or Numpy numeric type.') [astropy.table.table]\n",
      "WARNING: column irq3 has a unit but is kept as a Column as an attempt to convert it to Quantity failed with:\n",
      "TypeError('The value must be a valid Python or Numpy numeric type.') [astropy.table.table]\n",
      "WARNING: column rstfc has a unit but is kept as a Column as an attempt to convert it to Quantity failed with:\n",
      "TypeError('The value must be a valid Python or Numpy numeric type.') [astropy.table.table]\n",
      "WARNING: column quality has a unit but is kept as a Column as an attempt to convert it to Quantity failed with:\n",
      "TypeError('The value must be a valid Python or Numpy numeric type.') [astropy.table.table]\n",
      "WARNING: column irq1 has a unit but is kept as a Column as an attempt to convert it to Quantity failed with:\n",
      "TypeError('The value must be a valid Python or Numpy numeric type.') [astropy.table.table]\n",
      "WARNING: column irq2 has a unit but is kept as a Column as an attempt to convert it to Quantity failed with:\n",
      "TypeError('The value must be a valid Python or Numpy numeric type.') [astropy.table.table]\n",
      "WARNING: column irq3 has a unit but is kept as a Column as an attempt to convert it to Quantity failed with:\n",
      "TypeError('The value must be a valid Python or Numpy numeric type.') [astropy.table.table]\n",
      "WARNING: column rstfc has a unit but is kept as a Column as an attempt to convert it to Quantity failed with:\n",
      "TypeError('The value must be a valid Python or Numpy numeric type.') [astropy.table.table]\n",
      "WARNING: column quality has a unit but is kept as a Column as an attempt to convert it to Quantity failed with:\n",
      "TypeError('The value must be a valid Python or Numpy numeric type.') [astropy.table.table]\n",
      "WARNING: column irq1 has a unit but is kept as a Column as an attempt to convert it to Quantity failed with:\n",
      "TypeError('The value must be a valid Python or Numpy numeric type.') [astropy.table.table]\n",
      "WARNING: column irq2 has a unit but is kept as a Column as an attempt to convert it to Quantity failed with:\n",
      "TypeError('The value must be a valid Python or Numpy numeric type.') [astropy.table.table]\n",
      "WARNING: column irq3 has a unit but is kept as a Column as an attempt to convert it to Quantity failed with:\n",
      "TypeError('The value must be a valid Python or Numpy numeric type.') [astropy.table.table]\n",
      "WARNING: column rstfc has a unit but is kept as a Column as an attempt to convert it to Quantity failed with:\n",
      "TypeError('The value must be a valid Python or Numpy numeric type.') [astropy.table.table]\n",
      "c:\\Users\\maria\\anaconda3\\lib\\site-packages\\lightkurve\\lightcurve.py:1154: LightkurveWarning: The light curve appears to be zero-centered (median=4.08e+01 ppm +/- 6.00e+02 ppm); `normalize()` will divide the light curve by a value close to zero, which is probably not what you want.\n",
      "  warnings.warn(\n",
      "c:\\Users\\maria\\anaconda3\\lib\\site-packages\\lightkurve\\lightcurve.py:1154: LightkurveWarning: The light curve appears to be zero-centered (median=1.11e+01 ppm +/- 6.89e+02 ppm); `normalize()` will divide the light curve by a value close to zero, which is probably not what you want.\n",
      "  warnings.warn(\n",
      "c:\\Users\\maria\\anaconda3\\lib\\site-packages\\lightkurve\\lightcurve.py:1154: LightkurveWarning: The light curve appears to be zero-centered (median=0.00e+00 ppm +/- 1.07e+03 ppm); `normalize()` will divide the light curve by a value close to zero, which is probably not what you want.\n",
      "  warnings.warn(\n",
      "c:\\Users\\maria\\anaconda3\\lib\\site-packages\\astropy\\utils\\masked\\core.py:879: RuntimeWarning: divide by zero encountered in true_divide\n",
      "  result = getattr(ufunc, method)(*unmasked, **kwargs)\n",
      "c:\\Users\\maria\\anaconda3\\lib\\site-packages\\lightkurve\\collections.py:212: LightkurveWarning: The following columns will be excluded from stitching because the column types are incompatible: {'sap_bkg', 'sap_bkg_err', 'sap_flux'}\n",
      "  warnings.warn(\n"
     ]
    }
   ],
   "source": [
    "# Descargar curva de luz y filtrar sectores válidos\n",
    "\n",
    "target = \"HD 156668\"\n",
    "search_result = lk.search_lightcurve(target)\n",
    "lc_collection = search_result.download_all()\n",
    "\n",
    "compatible_lcs = []\n",
    "for lc in lc_collection:\n",
    "    try:\n",
    "        _ = lc.quality\n",
    "        if lc.quality.dtype.kind in ['i', 'u']:\n",
    "            compatible_lcs.append(lc)\n",
    "    except:\n",
    "        continue\n",
    "\n",
    "if not compatible_lcs:\n",
    "    raise ValueError(\"No hay curvas de luz compatibles para HD 156668.\")\n",
    "\n",
    "from lightkurve import LightCurveCollection\n",
    "lc = LightCurveCollection(compatible_lcs).stitch().remove_nans().remove_outliers(sigma=5)\n",
    "median_flux = np.nanmedian(lc.flux)\n",
    "lc.flux = lc.flux / median_flux  # Normalización segura\n",
    "lc_flat = lc.flatten(window_length=301)"
   ]
  },
  {
   "cell_type": "code",
   "execution_count": 13,
   "id": "4b0b06c3",
   "metadata": {},
   "outputs": [
    {
     "name": "stderr",
     "output_type": "stream",
     "text": [
      "`period` contains 4252418 points.Periodogram is likely to be large, and slow to evaluate. Consider setting `frequency_factor` to a higher value.\n"
     ]
    },
    {
     "data": {
      "text/plain": [
       "<AxesSubplot:title={'center':'BLS periodogram for HD 156668'}, xlabel='Period [$\\\\mathrm{d}$]', ylabel='BLS Power'>"
      ]
     },
     "execution_count": 13,
     "metadata": {},
     "output_type": "execute_result"
    },
    {
     "data": {
      "image/png": "[encoded data removed]",
      "text/plain": [
       "<Figure size 848.5x400 with 1 Axes>"
      ]
     },
     "metadata": {},
     "output_type": "display_data"
    }
   ],
   "source": [
    "# Análisis de tránsitos con BoxLeastSquares\n",
    "period_grid = np.linspace(1, 20, 10000)\n",
    "bls = lc_flat.to_periodogram(method=\"bls\", period=period_grid)\n",
    "bls.plot(title=\"BLS periodogram for HD 156668\")"
   ]
  },
  {
   "cell_type": "code",
   "execution_count": 14,
   "id": "33588340",
   "metadata": {},
   "outputs": [],
   "source": [
    "# Parámetros del tránsito detectado\n",
    "period = bls.period_at_max_power.value           # días\n",
    "t0 = bls.transit_time_at_max_power.value         # BKJD\n",
    "duration = bls.duration_at_max_power.value       # días\n",
    "depth = bls.depth_at_max_power.value             # fracción"
   ]
  },
  {
   "cell_type": "code",
   "execution_count": 15,
   "id": "110577c4",
   "metadata": {},
   "outputs": [],
   "source": [
    "# Cálculo físico de parámetros planetarios ===\n",
    "T_sec = period * day2sec\n",
    "a_m = ((G * M_star * T_sec**2) / (4 * pi**2))**(1/3)\n",
    "a_AU = a_m / UA\n",
    "Rp_m = R_star * np.sqrt(depth)\n",
    "Rp_Re = Rp_m / R_earth\n",
    "excentricidad = \"~0\"  # Asumida, no detectable desde curva de luz"
   ]
  },
  {
   "cell_type": "code",
   "execution_count": 16,
   "id": "ce693efa",
   "metadata": {},
   "outputs": [
    {
     "name": "stdout",
     "output_type": "stream",
     "text": [
      "\n",
      "--- PARÁMETROS ESTELARES ---\n",
      "Tipo espectral: K3V\n",
      "Edad estimada: 4.5 Gyr\n",
      "Ubicación en el HR diagram: Secuencia principal (zona K)\n",
      "Masa: 0.77 M☉\n",
      "Radio: 0.72 R☉\n",
      "\n",
      "--- PARÁMETROS PLANETARIOS (HD 156668 b) ---\n",
      "Periodo orbital: 13.7009 días\n",
      "Semieje mayor: 0.1027 UA\n",
      "Radio planetario: 7.088 R⊕\n",
      "Excentricidad: ~0\n"
     ]
    }
   ],
   "source": [
    "# Resultados\n",
    "\n",
    "print(\"\\n--- PARÁMETROS ESTELARES ---\")\n",
    "print(f\"Tipo espectral: {tipo_espectral}\")\n",
    "print(f\"Edad estimada: {edad_Gyr} Gyr\")\n",
    "print(f\"Ubicación en el HR diagram: {ubicacion_HR}\")\n",
    "print(f\"Masa: {M_star/M_sun:.2f} M☉\")\n",
    "print(f\"Radio: {R_star/R_sun:.2f} R☉\")\n",
    "\n",
    "print(\"\\n--- PARÁMETROS PLANETARIOS (HD 156668 b) ---\")\n",
    "print(f\"Periodo orbital: {period:.4f} días\")\n",
    "print(f\"Semieje mayor: {a_AU:.4f} UA\")\n",
    "print(f\"Radio planetario: {Rp_Re:.3f} R⊕\")\n",
    "print(f\"Excentricidad: {excentricidad}\")"
   ]
  },
  {
   "cell_type": "code",
   "execution_count": 17,
   "id": "9b30e596",
   "metadata": {},
   "outputs": [
    {
     "data": {
      "text/html": [
       "<div>\n",
       "<style scoped>\n",
       "    .dataframe tbody tr th:only-of-type {\n",
       "        vertical-align: middle;\n",
       "    }\n",
       "\n",
       "    .dataframe tbody tr th {\n",
       "        vertical-align: top;\n",
       "    }\n",
       "\n",
       "    .dataframe thead th {\n",
       "        text-align: right;\n",
       "    }\n",
       "</style>\n",
       "<table border=\"1\" class=\"dataframe\">\n",
       "  <thead>\n",
       "    <tr style=\"text-align: right;\">\n",
       "      <th></th>\n",
       "      <th>Parámetro</th>\n",
       "      <th>Valor estimado</th>\n",
       "    </tr>\n",
       "  </thead>\n",
       "  <tbody>\n",
       "    <tr>\n",
       "      <th>0</th>\n",
       "      <td>Periodo (d)</td>\n",
       "      <td>13.7009</td>\n",
       "    </tr>\n",
       "    <tr>\n",
       "      <th>1</th>\n",
       "      <td>Radio (R⊕)</td>\n",
       "      <td>7.088</td>\n",
       "    </tr>\n",
       "    <tr>\n",
       "      <th>2</th>\n",
       "      <td>Semieje mayor (UA)</td>\n",
       "      <td>0.1027</td>\n",
       "    </tr>\n",
       "    <tr>\n",
       "      <th>3</th>\n",
       "      <td>Excentricidad (e)</td>\n",
       "      <td>~0</td>\n",
       "    </tr>\n",
       "  </tbody>\n",
       "</table>\n",
       "</div>"
      ],
      "text/plain": [
       "            Parámetro Valor estimado\n",
       "0         Periodo (d)        13.7009\n",
       "1          Radio (R⊕)          7.088\n",
       "2  Semieje mayor (UA)         0.1027\n",
       "3   Excentricidad (e)             ~0"
      ]
     },
     "metadata": {},
     "output_type": "display_data"
    }
   ],
   "source": [
    "# Tabla final\n",
    "\n",
    "planet_data = {\n",
    "    \"Parámetro\": [\"Periodo (d)\", \"Radio (R⊕)\", \"Semieje mayor (UA)\", \"Excentricidad (e)\"],\n",
    "    \"Valor estimado\": [f\"{period:.4f}\", f\"{Rp_Re:.3f}\", f\"{a_AU:.4f}\", excentricidad]\n",
    "}\n",
    "df = pd.DataFrame(planet_data)\n",
    "from IPython.display import display\n",
    "display(df)"
   ]
  },
  {
   "cell_type": "markdown",
   "id": "49997860",
   "metadata": {},
   "source": [
    "### Verificamos los resultados con el NASA Exoplanet Archive\n",
    "\n",
    "Parámetros:\n",
    "- Periodo orbital (pl_orbper)\n",
    "- Radio planetario (pl_rade)\n",
    "- Semieje mayor (pl_orbsmax)\n",
    "- Excentricidad (pl_orbeccen)\n",
    "- Masa y radio estelar (st_mass, st_rad)\n",
    "- Tipo espectral (st_spectype)\n",
    "- Edad estelar (st_age)"
   ]
  },
  {
   "cell_type": "code",
   "execution_count": 18,
   "id": "7438bd90",
   "metadata": {},
   "outputs": [
    {
     "name": "stderr",
     "output_type": "stream",
     "text": [
      "C:\\Users\\maria\\AppData\\Local\\Temp/ipykernel_17940/3484905557.py:2: DeprecationWarning: the ``nasa_exoplanet_archive`` module has been moved to astroquery.ipac.nexsci.nasa_exoplanet_archive, please update your imports.\n",
      "  from astroquery.nasa_exoplanet_archive import NasaExoplanetArchive\n"
     ]
    }
   ],
   "source": [
    "# Importamos librerías necesarias\n",
    "from astroquery.nasa_exoplanet_archive import NasaExoplanetArchive\n",
    "import pandas as pd"
   ]
  },
  {
   "cell_type": "code",
   "execution_count": 20,
   "id": "b9338386",
   "metadata": {},
   "outputs": [],
   "source": [
    "# Consultar con query_criteria en lugar de query_object\n",
    "df = NasaExoplanetArchive.query_criteria(\n",
    "    table=\"pscomppars\",\n",
    "    select=\"pl_name,pl_orbper,pl_rade,pl_orbsmax,pl_orbeccen,st_mass,st_rad,st_spectype,st_age\",\n",
    "    where=\"hostname='HD 156668'\"\n",
    ").to_pandas()"
   ]
  },
  {
   "cell_type": "code",
   "execution_count": 21,
   "id": "1a7de0cd",
   "metadata": {},
   "outputs": [],
   "source": [
    "# Renombrar columnas para mayor claridad\n",
    "df.columns = [\n",
    "    \"Planeta\", \"Periodo (d)\", \"Radio (R⊕)\", \"Semieje mayor (UA)\", \"Excentricidad\",\n",
    "    \"Masa estrella (M☉)\", \"Radio estrella (R☉)\", \"Tipo espectral\", \"Edad estelar (Gyr)\"\n",
    "]"
   ]
  },
  {
   "cell_type": "code",
   "execution_count": 22,
   "id": "8ef51188",
   "metadata": {},
   "outputs": [
    {
     "data": {
      "text/html": [
       "<div>\n",
       "<style scoped>\n",
       "    .dataframe tbody tr th:only-of-type {\n",
       "        vertical-align: middle;\n",
       "    }\n",
       "\n",
       "    .dataframe tbody tr th {\n",
       "        vertical-align: top;\n",
       "    }\n",
       "\n",
       "    .dataframe thead th {\n",
       "        text-align: right;\n",
       "    }\n",
       "</style>\n",
       "<table border=\"1\" class=\"dataframe\">\n",
       "  <thead>\n",
       "    <tr style=\"text-align: right;\">\n",
       "      <th></th>\n",
       "      <th>Planeta</th>\n",
       "      <th>Periodo (d)</th>\n",
       "      <th>Radio (R⊕)</th>\n",
       "      <th>Semieje mayor (UA)</th>\n",
       "      <th>Excentricidad</th>\n",
       "      <th>Masa estrella (M☉)</th>\n",
       "      <th>Radio estrella (R☉)</th>\n",
       "      <th>Tipo espectral</th>\n",
       "      <th>Edad estelar (Gyr)</th>\n",
       "    </tr>\n",
       "  </thead>\n",
       "  <tbody>\n",
       "    <tr>\n",
       "      <th>0</th>\n",
       "      <td>HD 156668 b</td>\n",
       "      <td>4.6455</td>\n",
       "      <td>1.87</td>\n",
       "      <td>0.05</td>\n",
       "      <td>0.000</td>\n",
       "      <td>0.772000</td>\n",
       "      <td>0.720000</td>\n",
       "      <td>K2</td>\n",
       "      <td>8.6</td>\n",
       "    </tr>\n",
       "    <tr>\n",
       "      <th>1</th>\n",
       "      <td>HD 156668 c</td>\n",
       "      <td>811.3000</td>\n",
       "      <td>6.17</td>\n",
       "      <td>1.57</td>\n",
       "      <td>0.089</td>\n",
       "      <td>0.785167</td>\n",
       "      <td>0.774528</td>\n",
       "      <td>K2</td>\n",
       "      <td>8.6</td>\n",
       "    </tr>\n",
       "  </tbody>\n",
       "</table>\n",
       "</div>"
      ],
      "text/plain": [
       "       Planeta  Periodo (d)  Radio (R⊕)  Semieje mayor (UA)  Excentricidad  \\\n",
       "0  HD 156668 b       4.6455        1.87                0.05          0.000   \n",
       "1  HD 156668 c     811.3000        6.17                1.57          0.089   \n",
       "\n",
       "   Masa estrella (M☉)  Radio estrella (R☉) Tipo espectral  Edad estelar (Gyr)  \n",
       "0            0.772000             0.720000             K2                 8.6  \n",
       "1            0.785167             0.774528             K2                 8.6  "
      ]
     },
     "metadata": {},
     "output_type": "display_data"
    }
   ],
   "source": [
    "# Mostrar resultados\n",
    "from IPython.display import display\n",
    "display(df)"
   ]
  },
  {
   "cell_type": "markdown",
   "id": "9de14002",
   "metadata": {},
   "source": [
    "### Diagrama de arquitectura del sistema"
   ]
  },
  {
   "cell_type": "code",
   "execution_count": 23,
   "id": "94d62add",
   "metadata": {},
   "outputs": [],
   "source": [
    "import matplotlib.pyplot as plt"
   ]
  },
  {
   "cell_type": "code",
   "execution_count": 24,
   "id": "118ba502",
   "metadata": {},
   "outputs": [],
   "source": [
    "# Parámetros de HD 156668 b\n",
    "a_b = 0.1027  # semieje mayor en UA (tu resultado)\n",
    "R_star_AU = 0.72 * 6.957e8 / 1.496e11  # convertir radio estelar a UA"
   ]
  },
  {
   "cell_type": "code",
   "execution_count": 25,
   "id": "31d9d129",
   "metadata": {},
   "outputs": [],
   "source": [
    "# Opcional: segundo planeta (HD 156668 c), estimado a ~0.6 UA (literatura)\n",
    "a_c = 0.6"
   ]
  },
  {
   "cell_type": "code",
   "execution_count": 26,
   "id": "c0e4650a",
   "metadata": {},
   "outputs": [
    {
     "data": {
      "image/png": "[encoded data removed]",
      "text/plain": [
       "<Figure size 432x432 with 1 Axes>"
      ]
     },
     "metadata": {
      "needs_background": "light"
     },
     "output_type": "display_data"
    }
   ],
   "source": [
    "# Crear figura\n",
    "fig, ax = plt.subplots(figsize=(6, 6))\n",
    "ax.set_aspect(\"equal\")\n",
    "\n",
    "# Estrella\n",
    "ax.plot(0, 0, marker='o', markersize=15, color='orange', label='HD 156668 (estrella K)')\n",
    "\n",
    "# Órbita del planeta b\n",
    "circle_b = plt.Circle((0, 0), a_b, color='blue', fill=False, linestyle='-', linewidth=2, label='HD 156668 b')\n",
    "\n",
    "# (Opcional) Órbita del planeta c\n",
    "circle_c = plt.Circle((0, 0), a_c, color='gray', fill=False, linestyle='--', linewidth=1.5, label='HD 156668 c (no analizado)')\n",
    "\n",
    "# Añadir círculos al gráfico\n",
    "ax.add_patch(circle_b)\n",
    "ax.add_patch(circle_c)\n",
    "\n",
    "# Estilo del gráfico\n",
    "ax.set_xlim(-0.7, 0.7)\n",
    "ax.set_ylim(-0.7, 0.7)\n",
    "ax.set_xlabel(\"Distancia (UA)\")\n",
    "ax.set_ylabel(\"Distancia (UA)\")\n",
    "ax.set_title(\"Arquitectura del sistema HD 156668\")\n",
    "ax.legend(loc=\"upper right\")\n",
    "plt.grid(True)\n",
    "plt.show()"
   ]
  }
 ],
 "metadata": {
  "kernelspec": {
   "display_name": "base",
   "language": "python",
   "name": "python3"
  },
  "language_info": {
   "codemirror_mode": {
    "name": "ipython",
    "version": 3
   },
   "file_extension": ".py",
   "mimetype": "text/x-python",
   "name": "python",
   "nbconvert_exporter": "python",
   "pygments_lexer": "ipython3",
   "version": "3.9.7"
  }
 },
 "nbformat": 4,
 "nbformat_minor": 5
}
